{
  "nbformat": 4,
  "nbformat_minor": 0,
  "metadata": {
    "colab": {
      "name": "NLP.ipynb",
      "provenance": []
    },
    "kernelspec": {
      "name": "python3",
      "display_name": "Python 3"
    },
    "language_info": {
      "name": "python"
    }
  },
  "cells": [
    {
      "cell_type": "markdown",
      "source": [
        "Yelp es un sitio donde se pueden dejar reseñas y tips sobre negocios de todo tipo, muy utilizado en Estados Unidos. Los csvs son:\n",
        "\n",
        "* businesses.csv\n",
        "  * business_id\n",
        "  * name\n",
        "  * address\n",
        "  * city\n",
        "  * state\n",
        "  * postal_code\n",
        "  * latitude\n",
        "  * longitude\n",
        "  * stars: float, star rating, rounded to half-stars\n",
        "  * review_count\n",
        "  * is_open\n",
        "  * attributes: un json con atributos variados\n",
        "  * categories: lista de categorías en json a las que pertenece el negocio\n",
        "  * hours: diccionario json con horarios día por día en los que abre\n",
        "* review.csv\n",
        "  * review_id\n",
        "  * user_id\n",
        "  * business_id\n",
        "  * stars: entero entre 1 y 5\n",
        "  * date\n",
        "  * text: texto de la review\n",
        "  * useful: cantidad de gente que la voto útil\n",
        "  * funny: cantidad de gente que la voto divertida\n",
        "  * cool: cantidad de gente que la votó como cool\n",
        "* user.csv\n",
        "  * user_id\n",
        "  * name\n",
        "  * review_count\n",
        "  * yelping_since: fecha de registro\n",
        "  * friends: lista en json de user ids que son amigos\n",
        "  * useful: cantidad de votos “useful” que recibió el usuario\n",
        "  * funny: cantidad de votos “funny” que recibió el usuario\n",
        "  * cool: cantidad de votos “cool” que recibió el usuario\n",
        "  * fans: cantidad de fans que tiene el usuario\n",
        "  * elite: lista json con los años que el usuario fue élite\n",
        "  * average_stars: promedio de rating de todas sus reviews\n",
        "  * compliment_*: la cantidad de cumplidos de tipo * que recibió el usuario\n",
        "* checkins.csv: Las visitas que los usuarios registran a los lugares\n",
        "  * business_id\n",
        "  * date: lista de fechas separadas por coma de los chekins que recibió el negocio\n",
        "* tip.csv: tips que los usuarios dan sobre lugares\n",
        "  * text\n",
        "  * date\n",
        "  * compliment_count: cumplidos que recibió el tip\n",
        "  * business_id\n",
        "  * user_id"
      ],
      "metadata": {
        "id": "6BOnhdS-l-ed"
      }
    },
    {
      "cell_type": "markdown",
      "source": [
        "### N4. ¿Cuál es el la review con menor ratio de stopwords en función de su longitud para aquellas que tienen por lo menos 100 caracteres?"
      ],
      "metadata": {
        "id": "b52jdGJ1mCG3"
      }
    },
    {
      "cell_type": "code",
      "execution_count": 3,
      "metadata": {
        "colab": {
          "base_uri": "https://localhost:8080/"
        },
        "id": "A_gHu68ol210",
        "outputId": "15a33c8a-ba48-49de-ac81-b967d407241b"
      },
      "outputs": [
        {
          "output_type": "stream",
          "name": "stderr",
          "text": [
            "[nltk_data] Downloading package stopwords to /root/nltk_data...\n",
            "[nltk_data]   Package stopwords is already up-to-date!\n",
            "[nltk_data] Downloading package punkt to /root/nltk_data...\n",
            "[nltk_data]   Package punkt is already up-to-date!\n"
          ]
        }
      ],
      "source": [
        "import pandas as pd\n",
        "import numpy as np\n",
        "from tqdm import tqdm\n",
        "import nltk\n",
        "nltk.download('stopwords')\n",
        "nltk.download('punkt')\n",
        "from nltk.corpus import stopwords\n",
        "from nltk.tokenize import word_tokenize "
      ]
    },
    {
      "cell_type": "code",
      "source": [
        "reviews = pd.read_csv('/content/drive/MyDrive/Datos/TP1/Parte 1/review.csv', usecols=['text']).text.to_list()"
      ],
      "metadata": {
        "id": "Xvd067qnmE3f"
      },
      "execution_count": 4,
      "outputs": []
    },
    {
      "cell_type": "markdown",
      "source": [
        "Tokenizo las reviews para calcular su ratio de stopwords como la cantidad de sus tokens que son stopwords / la cantidad total de tokens."
      ],
      "metadata": {
        "id": "PpyHPtgfmGXo"
      }
    },
    {
      "cell_type": "code",
      "source": [
        "sws = set(stopwords.words())\n",
        "(min_review, min_ratio) = ('', 1)\n",
        "\n",
        "for review in reviews:\n",
        "  if len(review) < 100:\n",
        "    continue\n",
        "\n",
        "  review_tokens = word_tokenize(review)\n",
        "  review_stopwords = [w for w in review_tokens if w in sws]\n",
        "  ratio = len(review_stopwords) / len(review_tokens)\n",
        "\n",
        "  if ratio < min_ratio:\n",
        "    (min_review, min_ratio) = (review, ratio)\n",
        "  \n",
        "  if min_ratio == 0: # menor ratio posible\n",
        "    break"
      ],
      "metadata": {
        "id": "XIM2kr9AmG4K"
      },
      "execution_count": 5,
      "outputs": []
    },
    {
      "cell_type": "code",
      "source": [
        "print(\"El menor ratio de stopwords es \" + str(min_ratio) + \" para la review: '\" + min_review+ \"'\")"
      ],
      "metadata": {
        "colab": {
          "base_uri": "https://localhost:8080/"
        },
        "id": "8BMsEoVomLEQ",
        "outputId": "1a53c651-0c20-4d50-f38f-fe0c0e06210e"
      },
      "execution_count": 6,
      "outputs": [
        {
          "output_type": "stream",
          "name": "stdout",
          "text": [
            "El menor ratio de stopwords es 0.0 para la review: 'Above average pub grub, live music, low key neighborhood bar.  Clean, nice architectural features, nice staff.'\n"
          ]
        }
      ]
    },
    {
      "cell_type": "markdown",
      "source": [
        "Se encontró una review con ratio de stopwords 0, lo que significa que no contiene ninguna stopword. "
      ],
      "metadata": {
        "id": "LtLhpGlAmJbu"
      }
    },
    {
      "cell_type": "markdown",
      "source": [
        "### N8. Queremos crear nuestro propio clasificador de reviews según sean positivas o negativas usando los datos de yelp, para hacer esto vamos a hacer una cosa muy sencilla: asignarle a cada palabra de las 500 más comunes sin contar stopwords el promedio de las stars para las reviews en las que aparece, luego, cuando aparezca un nuevo texto para las palabras que conozcamos del mismo promediamos sus scores. Por ejemplo, si tenemos las palabras “buena” con polaridad 3.4 y “rica” con polaridad 4.3 y tenemos el texto “buena y rica” su predicción será 3.85. Puede usar una muestra para entrenar. ¿Cuál es la salida del predictor para “I loved this place, the food was amazing!”?"
      ],
      "metadata": {
        "id": "gzubVLBJmszc"
      }
    },
    {
      "cell_type": "code",
      "source": [
        "import pandas as pd\n",
        "import numpy as np\n",
        "import nltk\n",
        "nltk.download('stopwords')\n",
        "from nltk.corpus import stopwords\n",
        "from sklearn.feature_extraction.text import CountVectorizer"
      ],
      "metadata": {
        "colab": {
          "base_uri": "https://localhost:8080/"
        },
        "id": "3QmfbO7pmxDU",
        "outputId": "4aec54c8-85be-4f48-bedc-a4a70a024d57"
      },
      "execution_count": 7,
      "outputs": [
        {
          "output_type": "stream",
          "name": "stderr",
          "text": [
            "[nltk_data] Downloading package stopwords to /root/nltk_data...\n",
            "[nltk_data]   Package stopwords is already up-to-date!\n"
          ]
        }
      ]
    },
    {
      "cell_type": "code",
      "source": [
        "df = pd.read_csv('/content/drive/MyDrive/Datos/TP1/Parte 1/review.csv', usecols=['text', 'stars'])\n",
        "df"
      ],
      "metadata": {
        "colab": {
          "base_uri": "https://localhost:8080/",
          "height": 424
        },
        "id": "NiMCq-IbmztV",
        "outputId": "81072909-fa01-4be4-c080-33d437a1ab5b"
      },
      "execution_count": 8,
      "outputs": [
        {
          "output_type": "execute_result",
          "data": {
            "text/plain": [
              "         stars                                               text\n",
              "0          3.0  If you decide to eat here, just be aware it is...\n",
              "1          4.0  Cute interior and owner (?) gave us tour of up...\n",
              "2          4.0  I was really between 3 and 4 stars for this on...\n",
              "3          5.0  First time there and it was excellent!!! It fe...\n",
              "4          5.0  Great burgers,fries and salad!  Burgers have a...\n",
              "...        ...                                                ...\n",
              "3838100    5.0  We redesigned my moms dress and mad it complet...\n",
              "3838101    5.0  This spot offers a great, affordable east week...\n",
              "3838102    4.0  This Home Depot won me over when I needed to g...\n",
              "3838103    5.0  For when I'm feeling like ignoring my calorie-...\n",
              "3838104    3.0  Located in the 'Walking District' in Nashville...\n",
              "\n",
              "[3838105 rows x 2 columns]"
            ],
            "text/html": [
              "\n",
              "  <div id=\"df-67033d05-aa85-4727-b002-aeebdeae5993\">\n",
              "    <div class=\"colab-df-container\">\n",
              "      <div>\n",
              "<style scoped>\n",
              "    .dataframe tbody tr th:only-of-type {\n",
              "        vertical-align: middle;\n",
              "    }\n",
              "\n",
              "    .dataframe tbody tr th {\n",
              "        vertical-align: top;\n",
              "    }\n",
              "\n",
              "    .dataframe thead th {\n",
              "        text-align: right;\n",
              "    }\n",
              "</style>\n",
              "<table border=\"1\" class=\"dataframe\">\n",
              "  <thead>\n",
              "    <tr style=\"text-align: right;\">\n",
              "      <th></th>\n",
              "      <th>stars</th>\n",
              "      <th>text</th>\n",
              "    </tr>\n",
              "  </thead>\n",
              "  <tbody>\n",
              "    <tr>\n",
              "      <th>0</th>\n",
              "      <td>3.0</td>\n",
              "      <td>If you decide to eat here, just be aware it is...</td>\n",
              "    </tr>\n",
              "    <tr>\n",
              "      <th>1</th>\n",
              "      <td>4.0</td>\n",
              "      <td>Cute interior and owner (?) gave us tour of up...</td>\n",
              "    </tr>\n",
              "    <tr>\n",
              "      <th>2</th>\n",
              "      <td>4.0</td>\n",
              "      <td>I was really between 3 and 4 stars for this on...</td>\n",
              "    </tr>\n",
              "    <tr>\n",
              "      <th>3</th>\n",
              "      <td>5.0</td>\n",
              "      <td>First time there and it was excellent!!! It fe...</td>\n",
              "    </tr>\n",
              "    <tr>\n",
              "      <th>4</th>\n",
              "      <td>5.0</td>\n",
              "      <td>Great burgers,fries and salad!  Burgers have a...</td>\n",
              "    </tr>\n",
              "    <tr>\n",
              "      <th>...</th>\n",
              "      <td>...</td>\n",
              "      <td>...</td>\n",
              "    </tr>\n",
              "    <tr>\n",
              "      <th>3838100</th>\n",
              "      <td>5.0</td>\n",
              "      <td>We redesigned my moms dress and mad it complet...</td>\n",
              "    </tr>\n",
              "    <tr>\n",
              "      <th>3838101</th>\n",
              "      <td>5.0</td>\n",
              "      <td>This spot offers a great, affordable east week...</td>\n",
              "    </tr>\n",
              "    <tr>\n",
              "      <th>3838102</th>\n",
              "      <td>4.0</td>\n",
              "      <td>This Home Depot won me over when I needed to g...</td>\n",
              "    </tr>\n",
              "    <tr>\n",
              "      <th>3838103</th>\n",
              "      <td>5.0</td>\n",
              "      <td>For when I'm feeling like ignoring my calorie-...</td>\n",
              "    </tr>\n",
              "    <tr>\n",
              "      <th>3838104</th>\n",
              "      <td>3.0</td>\n",
              "      <td>Located in the 'Walking District' in Nashville...</td>\n",
              "    </tr>\n",
              "  </tbody>\n",
              "</table>\n",
              "<p>3838105 rows × 2 columns</p>\n",
              "</div>\n",
              "      <button class=\"colab-df-convert\" onclick=\"convertToInteractive('df-67033d05-aa85-4727-b002-aeebdeae5993')\"\n",
              "              title=\"Convert this dataframe to an interactive table.\"\n",
              "              style=\"display:none;\">\n",
              "        \n",
              "  <svg xmlns=\"http://www.w3.org/2000/svg\" height=\"24px\"viewBox=\"0 0 24 24\"\n",
              "       width=\"24px\">\n",
              "    <path d=\"M0 0h24v24H0V0z\" fill=\"none\"/>\n",
              "    <path d=\"M18.56 5.44l.94 2.06.94-2.06 2.06-.94-2.06-.94-.94-2.06-.94 2.06-2.06.94zm-11 1L8.5 8.5l.94-2.06 2.06-.94-2.06-.94L8.5 2.5l-.94 2.06-2.06.94zm10 10l.94 2.06.94-2.06 2.06-.94-2.06-.94-.94-2.06-.94 2.06-2.06.94z\"/><path d=\"M17.41 7.96l-1.37-1.37c-.4-.4-.92-.59-1.43-.59-.52 0-1.04.2-1.43.59L10.3 9.45l-7.72 7.72c-.78.78-.78 2.05 0 2.83L4 21.41c.39.39.9.59 1.41.59.51 0 1.02-.2 1.41-.59l7.78-7.78 2.81-2.81c.8-.78.8-2.07 0-2.86zM5.41 20L4 18.59l7.72-7.72 1.47 1.35L5.41 20z\"/>\n",
              "  </svg>\n",
              "      </button>\n",
              "      \n",
              "  <style>\n",
              "    .colab-df-container {\n",
              "      display:flex;\n",
              "      flex-wrap:wrap;\n",
              "      gap: 12px;\n",
              "    }\n",
              "\n",
              "    .colab-df-convert {\n",
              "      background-color: #E8F0FE;\n",
              "      border: none;\n",
              "      border-radius: 50%;\n",
              "      cursor: pointer;\n",
              "      display: none;\n",
              "      fill: #1967D2;\n",
              "      height: 32px;\n",
              "      padding: 0 0 0 0;\n",
              "      width: 32px;\n",
              "    }\n",
              "\n",
              "    .colab-df-convert:hover {\n",
              "      background-color: #E2EBFA;\n",
              "      box-shadow: 0px 1px 2px rgba(60, 64, 67, 0.3), 0px 1px 3px 1px rgba(60, 64, 67, 0.15);\n",
              "      fill: #174EA6;\n",
              "    }\n",
              "\n",
              "    [theme=dark] .colab-df-convert {\n",
              "      background-color: #3B4455;\n",
              "      fill: #D2E3FC;\n",
              "    }\n",
              "\n",
              "    [theme=dark] .colab-df-convert:hover {\n",
              "      background-color: #434B5C;\n",
              "      box-shadow: 0px 1px 3px 1px rgba(0, 0, 0, 0.15);\n",
              "      filter: drop-shadow(0px 1px 2px rgba(0, 0, 0, 0.3));\n",
              "      fill: #FFFFFF;\n",
              "    }\n",
              "  </style>\n",
              "\n",
              "      <script>\n",
              "        const buttonEl =\n",
              "          document.querySelector('#df-67033d05-aa85-4727-b002-aeebdeae5993 button.colab-df-convert');\n",
              "        buttonEl.style.display =\n",
              "          google.colab.kernel.accessAllowed ? 'block' : 'none';\n",
              "\n",
              "        async function convertToInteractive(key) {\n",
              "          const element = document.querySelector('#df-67033d05-aa85-4727-b002-aeebdeae5993');\n",
              "          const dataTable =\n",
              "            await google.colab.kernel.invokeFunction('convertToInteractive',\n",
              "                                                     [key], {});\n",
              "          if (!dataTable) return;\n",
              "\n",
              "          const docLinkHtml = 'Like what you see? Visit the ' +\n",
              "            '<a target=\"_blank\" href=https://colab.research.google.com/notebooks/data_table.ipynb>data table notebook</a>'\n",
              "            + ' to learn more about interactive tables.';\n",
              "          element.innerHTML = '';\n",
              "          dataTable['output_type'] = 'display_data';\n",
              "          await google.colab.output.renderOutput(dataTable, element);\n",
              "          const docLink = document.createElement('div');\n",
              "          docLink.innerHTML = docLinkHtml;\n",
              "          element.appendChild(docLink);\n",
              "        }\n",
              "      </script>\n",
              "    </div>\n",
              "  </div>\n",
              "  "
            ]
          },
          "metadata": {},
          "execution_count": 8
        }
      ]
    },
    {
      "cell_type": "markdown",
      "source": [
        "Usando el método Count Vectorizer se pueden obtener las 500 palabras más comunes sin contar stopwords (features), además contar la cantidad de veces que aparecen estos features en cada review."
      ],
      "metadata": {
        "id": "-zlWeCkwm1Qf"
      }
    },
    {
      "cell_type": "code",
      "source": [
        "sws = set(stopwords.words('english'))\n",
        "count_vectorizer = CountVectorizer(lowercase=True, stop_words=sws, max_features=500)\n",
        "count_vectorizer.fit_transform(df.text)\n",
        "features = count_vectorizer.get_feature_names_out()\n",
        "features[:100]"
      ],
      "metadata": {
        "colab": {
          "base_uri": "https://localhost:8080/"
        },
        "id": "sp0ZRuS0m4gB",
        "outputId": "4dc25c5f-d60a-4ce8-b96a-aaf2f504cca0"
      },
      "execution_count": 9,
      "outputs": [
        {
          "output_type": "execute_result",
          "data": {
            "text/plain": [
              "array(['10', '15', '20', '30', 'able', 'absolutely', 'actually', 'add',\n",
              "       'ago', 'almost', 'already', 'also', 'although', 'always',\n",
              "       'amazing', 'amount', 'another', 'anyone', 'anything', 'appetizer',\n",
              "       'appointment', 'area', 'around', 'arrived', 'ask', 'asked', 'ate',\n",
              "       'atmosphere', 'attentive', 'available', 'away', 'awesome', 'back',\n",
              "       'bacon', 'bad', 'bar', 'bartender', 'bbq', 'beans', 'beautiful',\n",
              "       'beef', 'beer', 'believe', 'best', 'better', 'big', 'bill',\n",
              "       'birthday', 'bit', 'bowl', 'bread', 'breakfast', 'bring',\n",
              "       'brought', 'brunch', 'burger', 'business', 'busy', 'buy', 'cake',\n",
              "       'call', 'called', 'came', 'car', 'card', 'care', 'change',\n",
              "       'charge', 'check', 'cheese', 'chicken', 'chips', 'chocolate',\n",
              "       'city', 'clean', 'close', 'coffee', 'cold', 'come', 'comes',\n",
              "       'comfortable', 'coming', 'company', 'completely', 'cooked', 'cool',\n",
              "       'could', 'counter', 'couple', 'course', 'covid', 'crab', 'cream',\n",
              "       'crispy', 'customer', 'customers', 'cut', 'cute', 'day', 'days'],\n",
              "      dtype=object)"
            ]
          },
          "metadata": {},
          "execution_count": 9
        }
      ]
    },
    {
      "cell_type": "markdown",
      "source": [
        "Calculo las stars promedio de cada feature en un array `feature_stars`, de forma que `feature_stars[x]` es el promedio de stars de `feature[x]`."
      ],
      "metadata": {
        "id": "pSXiPl9Am7T_"
      }
    },
    {
      "cell_type": "code",
      "source": [
        "feature_stars = []\n",
        "\n",
        "for feature in features:\n",
        "  query = count_vectorizer.transform([feature])\n",
        "  star_sum = 0\n",
        "  for i in query.indices:\n",
        "    star_sum += df.stars[i]\n",
        "  feature_stars.append(star_sum / len(query.indices))"
      ],
      "metadata": {
        "id": "1ehDnKcPm8iT"
      },
      "execution_count": 10,
      "outputs": []
    },
    {
      "cell_type": "markdown",
      "source": [
        "Para predecir las stars de un texto se promedian las stars de cada feature que el texto contenga:"
      ],
      "metadata": {
        "id": "a27nAVvJm96u"
      }
    },
    {
      "cell_type": "code",
      "source": [
        "def predict_stars(text):\n",
        "  query = count_vectorizer.transform([text])\n",
        "  star_sum = 0\n",
        "  print(\"Feature \\t Average review stars\")\n",
        "  print(\"-------------------------------------\")\n",
        "  \n",
        "  for i in query.indices:\n",
        "    star_sum += feature_stars[i]\n",
        "    print(features[i] + \"    \\t\\t \" + str(feature_stars[i]))\n",
        "\n",
        "  prediction = star_sum / len(query.indices)\n",
        "  print(\"\\nPredicted stars for text '\" + text + \"': \" + str(prediction))\n",
        "  return prediction"
      ],
      "metadata": {
        "id": "QUpL5acrm_Kq"
      },
      "execution_count": 11,
      "outputs": []
    },
    {
      "cell_type": "code",
      "source": [
        "prediction = predict_stars(\"I loved this place, the food was amazing!\")"
      ],
      "metadata": {
        "colab": {
          "base_uri": "https://localhost:8080/"
        },
        "id": "3NCiUxBPnAh9",
        "outputId": "74d38758-fd63-4522-91cd-350658909813"
      },
      "execution_count": 12,
      "outputs": [
        {
          "output_type": "stream",
          "name": "stdout",
          "text": [
            "Feature \t Average review stars\n",
            "-------------------------------------\n",
            "amazing    \t\t 5.0\n",
            "food    \t\t 5.0\n",
            "loved    \t\t 5.0\n",
            "place    \t\t 4.0\n",
            "\n",
            "Predicted stars for text 'I loved this place, the food was amazing!': 4.75\n"
          ]
        }
      ]
    },
    {
      "cell_type": "markdown",
      "source": [
        "Se observa que el predictor acertó que una review muy positiva tiene una cantida de estrellas alta."
      ],
      "metadata": {
        "id": "nNhThmdpnChf"
      }
    }
  ]
}
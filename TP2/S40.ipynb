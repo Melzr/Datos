{
  "cells": [
    {
      "cell_type": "markdown",
      "source": [
        "Yelp es un sitio donde se pueden dejar reseñas y tips sobre negocios de todo tipo, muy utilizado en Estados Unidos. Los csvs son:\n",
        "\n",
        "* businesses.csv\n",
        "  * business_id\n",
        "  * name\n",
        "  * address\n",
        "  * city\n",
        "  * state\n",
        "  * postal_code\n",
        "  * latitude\n",
        "  * longitude\n",
        "  * stars: float, star rating, rounded to half-stars\n",
        "  * review_count\n",
        "  * is_open\n",
        "  * attributes: un json con atributos variados\n",
        "  * categories: lista de categorías en json a las que pertenece el negocio\n",
        "  * hours: diccionario json con horarios día por día en los que abre\n",
        "* review.csv\n",
        "  * review_id\n",
        "  * user_id\n",
        "  * business_id\n",
        "  * stars: entero entre 1 y 5\n",
        "  * date\n",
        "  * text: texto de la review\n",
        "  * useful: cantidad de gente que la voto útil\n",
        "  * funny: cantidad de gente que la voto divertida\n",
        "  * cool: cantidad de gente que la votó como cool\n",
        "* user.csv\n",
        "  * user_id\n",
        "  * name\n",
        "  * review_count\n",
        "  * yelping_since: fecha de registro\n",
        "  * friends: lista en json de user ids que son amigos\n",
        "  * useful: cantidad de votos “useful” que recibió el usuario\n",
        "  * funny: cantidad de votos “funny” que recibió el usuario\n",
        "  * cool: cantidad de votos “cool” que recibió el usuario\n",
        "  * fans: cantidad de fans que tiene el usuario\n",
        "  * elite: lista json con los años que el usuario fue élite\n",
        "  * average_stars: promedio de rating de todas sus reviews\n",
        "  * compliment_*: la cantidad de cumplidos de tipo * que recibió el usuario\n",
        "* checkins.csv: Las visitas que los usuarios registran a los lugares\n",
        "  * business_id\n",
        "  * date: lista de fechas separadas por coma de los chekins que recibió el negocio\n",
        "* tip.csv: tips que los usuarios dan sobre lugares\n",
        "  * text\n",
        "  * date\n",
        "  * compliment_count: cumplidos que recibió el tip\n",
        "  * business_id\n",
        "  * user_id"
      ],
      "metadata": {
        "id": "NRIMYPpd54cY"
      }
    },
    {
      "cell_type": "markdown",
      "metadata": {
        "id": "9v8c4ZKlXd60"
      },
      "source": [
        "## S40. Para las reviews y tips que contienen la palabra “fuck”:\n",
        "- Para las reviews, ¿cuál es el promedio del score?\n",
        "- ¿Cuál es el usuario que más veces usó la palabra en ambas tablas?\n",
        "- ¿Cuál es el negocio que más veces recibió la palabra en ambas tablas?\n",
        "- ¿Cuál es el negocio de más de 3 reviews con mayor ratio de textos que contienen “fuck”?\n",
        "- Para los negocios con textos que tienen “fuck” correlacione el rating promedio del negocio con su ratio de “fuck” en textos."
      ]
    },
    {
      "cell_type": "markdown",
      "metadata": {
        "id": "vcqqngmgXoD8"
      },
      "source": [
        "### Installs e imports"
      ]
    },
    {
      "cell_type": "code",
      "execution_count": null,
      "metadata": {
        "colab": {
          "base_uri": "https://localhost:8080/"
        },
        "id": "S45kz2rIXbu5",
        "outputId": "4fe68de8-047a-49ff-c950-4f23a65b243e"
      },
      "outputs": [
        {
          "output_type": "stream",
          "name": "stdout",
          "text": [
            "Collecting pyspark\n",
            "  Downloading pyspark-3.2.1.tar.gz (281.4 MB)\n",
            "\u001b[K     |████████████████████████████████| 281.4 MB 30 kB/s \n",
            "\u001b[?25hCollecting py4j==0.10.9.3\n",
            "  Downloading py4j-0.10.9.3-py2.py3-none-any.whl (198 kB)\n",
            "\u001b[K     |████████████████████████████████| 198 kB 61.0 MB/s \n",
            "\u001b[?25hBuilding wheels for collected packages: pyspark\n",
            "  Building wheel for pyspark (setup.py) ... \u001b[?25l\u001b[?25hdone\n",
            "  Created wheel for pyspark: filename=pyspark-3.2.1-py2.py3-none-any.whl size=281853642 sha256=c18b2bee17cb55aed5c581e8fdcf692a2d26380200f218199d81ffae39f3056b\n",
            "  Stored in directory: /root/.cache/pip/wheels/9f/f5/07/7cd8017084dce4e93e84e92efd1e1d5334db05f2e83bcef74f\n",
            "Successfully built pyspark\n",
            "Installing collected packages: py4j, pyspark\n",
            "Successfully installed py4j-0.10.9.3 pyspark-3.2.1\n",
            "The following package was automatically installed and is no longer required:\n",
            "  libnvidia-common-460\n",
            "Use 'apt autoremove' to remove it.\n",
            "The following additional packages will be installed:\n",
            "  openjdk-8-jre-headless\n",
            "Suggested packages:\n",
            "  openjdk-8-demo openjdk-8-source libnss-mdns fonts-dejavu-extra\n",
            "  fonts-ipafont-gothic fonts-ipafont-mincho fonts-wqy-microhei\n",
            "  fonts-wqy-zenhei fonts-indic\n",
            "The following NEW packages will be installed:\n",
            "  openjdk-8-jdk-headless openjdk-8-jre-headless\n",
            "0 upgraded, 2 newly installed, 0 to remove and 42 not upgraded.\n",
            "Need to get 36.5 MB of archives.\n",
            "After this operation, 143 MB of additional disk space will be used.\n",
            "Selecting previously unselected package openjdk-8-jre-headless:amd64.\n",
            "(Reading database ... 155629 files and directories currently installed.)\n",
            "Preparing to unpack .../openjdk-8-jre-headless_8u312-b07-0ubuntu1~18.04_amd64.deb ...\n",
            "Unpacking openjdk-8-jre-headless:amd64 (8u312-b07-0ubuntu1~18.04) ...\n",
            "Selecting previously unselected package openjdk-8-jdk-headless:amd64.\n",
            "Preparing to unpack .../openjdk-8-jdk-headless_8u312-b07-0ubuntu1~18.04_amd64.deb ...\n",
            "Unpacking openjdk-8-jdk-headless:amd64 (8u312-b07-0ubuntu1~18.04) ...\n",
            "Setting up openjdk-8-jre-headless:amd64 (8u312-b07-0ubuntu1~18.04) ...\n",
            "update-alternatives: using /usr/lib/jvm/java-8-openjdk-amd64/jre/bin/orbd to provide /usr/bin/orbd (orbd) in auto mode\n",
            "update-alternatives: using /usr/lib/jvm/java-8-openjdk-amd64/jre/bin/servertool to provide /usr/bin/servertool (servertool) in auto mode\n",
            "update-alternatives: using /usr/lib/jvm/java-8-openjdk-amd64/jre/bin/tnameserv to provide /usr/bin/tnameserv (tnameserv) in auto mode\n",
            "Setting up openjdk-8-jdk-headless:amd64 (8u312-b07-0ubuntu1~18.04) ...\n",
            "update-alternatives: using /usr/lib/jvm/java-8-openjdk-amd64/bin/idlj to provide /usr/bin/idlj (idlj) in auto mode\n",
            "update-alternatives: using /usr/lib/jvm/java-8-openjdk-amd64/bin/wsimport to provide /usr/bin/wsimport (wsimport) in auto mode\n",
            "update-alternatives: using /usr/lib/jvm/java-8-openjdk-amd64/bin/jsadebugd to provide /usr/bin/jsadebugd (jsadebugd) in auto mode\n",
            "update-alternatives: using /usr/lib/jvm/java-8-openjdk-amd64/bin/native2ascii to provide /usr/bin/native2ascii (native2ascii) in auto mode\n",
            "update-alternatives: using /usr/lib/jvm/java-8-openjdk-amd64/bin/javah to provide /usr/bin/javah (javah) in auto mode\n",
            "update-alternatives: using /usr/lib/jvm/java-8-openjdk-amd64/bin/hsdb to provide /usr/bin/hsdb (hsdb) in auto mode\n",
            "update-alternatives: using /usr/lib/jvm/java-8-openjdk-amd64/bin/clhsdb to provide /usr/bin/clhsdb (clhsdb) in auto mode\n",
            "update-alternatives: using /usr/lib/jvm/java-8-openjdk-amd64/bin/xjc to provide /usr/bin/xjc (xjc) in auto mode\n",
            "update-alternatives: using /usr/lib/jvm/java-8-openjdk-amd64/bin/schemagen to provide /usr/bin/schemagen (schemagen) in auto mode\n",
            "update-alternatives: using /usr/lib/jvm/java-8-openjdk-amd64/bin/extcheck to provide /usr/bin/extcheck (extcheck) in auto mode\n",
            "update-alternatives: using /usr/lib/jvm/java-8-openjdk-amd64/bin/jhat to provide /usr/bin/jhat (jhat) in auto mode\n",
            "update-alternatives: using /usr/lib/jvm/java-8-openjdk-amd64/bin/wsgen to provide /usr/bin/wsgen (wsgen) in auto mode\n"
          ]
        }
      ],
      "source": [
        "!pip install pyspark\n",
        "!pip install -U -q PyDrive\n",
        "!apt install openjdk-8-jdk-headless -qq\n",
        "import os\n",
        "os.environ[\"JAVA_HOME\"] = \"/usr/lib/jvm/java-8-openjdk-amd64\""
      ]
    },
    {
      "cell_type": "code",
      "execution_count": null,
      "metadata": {
        "id": "9Cpxyi4lXlO2"
      },
      "outputs": [],
      "source": [
        "from pyspark.sql import *\n",
        "from pyspark.sql.functions import *\n",
        "from pyspark import SparkContext\n",
        "from pyspark.sql import SQLContext"
      ]
    },
    {
      "cell_type": "markdown",
      "metadata": {
        "id": "jY64iKpgXrTq"
      },
      "source": [
        "### Resolución"
      ]
    },
    {
      "cell_type": "code",
      "execution_count": null,
      "metadata": {
        "id": "oVgoKvbsXtkr"
      },
      "outputs": [],
      "source": [
        "spark = SparkSession.builder.getOrCreate()\n",
        "sc = spark.sparkContext"
      ]
    },
    {
      "cell_type": "code",
      "execution_count": null,
      "metadata": {
        "colab": {
          "base_uri": "https://localhost:8080/"
        },
        "id": "1J-Dvl4pXvVs",
        "outputId": "79555f51-1539-4021-d3f9-6d4138a4a3ba"
      },
      "outputs": [
        {
          "output_type": "stream",
          "name": "stderr",
          "text": [
            "/usr/local/lib/python3.7/dist-packages/pyspark/sql/context.py:79: FutureWarning: Deprecated in 3.0.0. Use SparkSession.builder.getOrCreate() instead.\n",
            "  FutureWarning\n"
          ]
        }
      ],
      "source": [
        "from pyspark.sql.types import StructType, StructField, StringType, FloatType, IntegerType\n",
        "\n",
        "rev_schema = StructType([StructField(\"review_id\", StringType(), True),\n",
        "                         StructField(\"user_id\", StringType(), True),\n",
        "                         StructField(\"business_id\", StringType(), True),\n",
        "                         StructField(\"stars\", FloatType(), True),\n",
        "                         StructField(\"useful\", IntegerType(), True),\n",
        "                         StructField(\"funny\", IntegerType(), True),\n",
        "                         StructField(\"cool\", IntegerType(), True),\n",
        "                         StructField(\"text\", StringType(), True),\n",
        "                         StructField(\"date\", StringType(), True)])\n",
        "\n",
        "tip_schema = StructType([ StructField(\"user_id\", StringType(), True),\n",
        "                          StructField(\"business_id\", StringType(), True),\n",
        "                          StructField(\"text\", StringType(), True),\n",
        "                          StructField(\"date\", StringType(), True),\n",
        "                          StructField(\"compliment_count\", IntegerType(), True)])\n",
        "\n",
        "sqlContext = SQLContext(sc)\n",
        "rev_df = sqlContext.read.csv('/content/drive/MyDrive/Datos/TP2/review.csv', header=True, multiLine=True, schema=rev_schema)\n",
        "rev_rdd = rev_df.rdd\n",
        "df = sqlContext.read.csv('/content/drive/MyDrive/Datos/TP2/tip.csv', header=True, multiLine=True, schema=tip_schema)\n",
        "tip_rdd = df.rdd"
      ]
    },
    {
      "cell_type": "markdown",
      "source": [
        "Filtro las reviews y tips que continen \"fuck\" y los campos text y stars no están vacíos:"
      ],
      "metadata": {
        "id": "FcgNnJSZ7EZA"
      }
    },
    {
      "cell_type": "code",
      "source": [
        "rev_f = rev_rdd.filter(lambda x: x.stars and x.text and \"fuck\" in x.text).cache()\n",
        "tip_f = tip_rdd.filter(lambda x: x.text and \"fuck\" in x.text).cache()"
      ],
      "metadata": {
        "id": "wq4MGWrIW53f"
      },
      "execution_count": null,
      "outputs": []
    },
    {
      "cell_type": "code",
      "source": [
        "rev_f.first()"
      ],
      "metadata": {
        "colab": {
          "base_uri": "https://localhost:8080/"
        },
        "id": "siLbOyMiXAjH",
        "outputId": "84337b35-0671-4fe0-e54a-076e71637288"
      },
      "execution_count": null,
      "outputs": [
        {
          "output_type": "execute_result",
          "data": {
            "text/plain": [
              "Row(review_id='jF3ZlgxpM88UjKymEfSJmQ', user_id='CtRP-ARklDGTJ8aVji47Ug', business_id='ompDR5sUDpoI6gnTldmneQ', stars=2.0, useful=None, funny=None, cool=None, text='\"This was my very 1st time in New Orleans. It\\'s been an amazing experience and so far, every single place I\\'ve eaten at has been AMAZING. So... I took a chance with The Praline Connection and walked in. Why? The ambiance and the restaurant, overall, looked nice. \\nHowever... I would NEVER return to this place again, nor would I Ever RECOMMEND it to Anyone. \\n\\nAPPETIZERS:\\nI ordered the BBQ Oysters and..wow.. fucking wow...1st of all the oysters not in their shells. Instead they placed in a soup cup filled with  \"\"BBQ sauce\"\" that tasted like cheap Ketchup and Chef Boyarde! Disgusting! The oysters themselves were gooey.', date=None)"
            ]
          },
          "metadata": {},
          "execution_count": 55
        }
      ]
    },
    {
      "cell_type": "code",
      "source": [
        "tip_f.first()"
      ],
      "metadata": {
        "colab": {
          "base_uri": "https://localhost:8080/"
        },
        "id": "z9qAljLZY3B2",
        "outputId": "9159f5c4-b30c-4920-85d6-af6b2c5cb2fd"
      },
      "execution_count": null,
      "outputs": [
        {
          "output_type": "execute_result",
          "data": {
            "text/plain": [
              "Row(user_id='-uM1ujzuJed-2QmFS-6Vog', business_id='U7HUYQAUzjBraAi_pEsHIA', text='Rip off. They fucked up my order and their prices are too high.', date='2016-11-24 02:19:58', compliment_count=0)"
            ]
          },
          "metadata": {},
          "execution_count": 56
        }
      ]
    },
    {
      "cell_type": "markdown",
      "source": [
        "#### Para las reviews, ¿cuál es el promedio del score?"
      ],
      "metadata": {
        "id": "APzmRuMfXJY6"
      }
    },
    {
      "cell_type": "markdown",
      "source": [
        "Para sumar la cantidad de estrellas totales, transformo el rdd a algo de tipo (clave, valor) donde todas las entradas tienen la misma clave y el valor es el numero de estrellas, para luego sumar los valores de la clave:"
      ],
      "metadata": {
        "id": "4QqXB4ZB7nwy"
      }
    },
    {
      "cell_type": "code",
      "source": [
        "avg = rev_f.map(lambda x: (1, x.stars)).reduceByKey(lambda x,y: x+y).first()[1] / rev_f.count()\n",
        "avg"
      ],
      "metadata": {
        "colab": {
          "base_uri": "https://localhost:8080/"
        },
        "id": "vCx2RgH4Zc8t",
        "outputId": "a9d9adc7-ba81-4fde-d034-45dc47884366"
      },
      "execution_count": null,
      "outputs": [
        {
          "output_type": "execute_result",
          "data": {
            "text/plain": [
              "1.9804813340913399"
            ]
          },
          "metadata": {},
          "execution_count": 57
        }
      ]
    },
    {
      "cell_type": "markdown",
      "source": [
        "El promedio de las reviews que contienen la palabra fuck es de 1.98 stars aproximadamente."
      ],
      "metadata": {
        "id": "KbOTD9EeAzQK"
      }
    },
    {
      "cell_type": "markdown",
      "source": [
        "#### ¿Cuál es el usuario que más veces usó la palabra en ambas tablas?"
      ],
      "metadata": {
        "id": "m2LArHLywizj"
      }
    },
    {
      "cell_type": "markdown",
      "source": [
        "Creo un rdd de tipo (clave, valor) donde la clave es el id del usuario y el valor la cantidad de \"fuck\" que contiene la review o tip:"
      ],
      "metadata": {
        "id": "TXFGFVV-8eiJ"
      }
    },
    {
      "cell_type": "code",
      "source": [
        "user_rev_f = rev_f.map(lambda x: (x.user_id, x.text.count(\"fuck\")))\n",
        "user_tip_f = tip_f.map(lambda x: (x.user_id, x.text.count(\"fuck\")))\n",
        "user_total_f = user_rev_f.union(user_tip_f)\n",
        "user_total_f.reduceByKey(lambda x,y: x+y).reduce(lambda x,y: x if x[1] > y[1] else y)"
      ],
      "metadata": {
        "colab": {
          "base_uri": "https://localhost:8080/"
        },
        "id": "DTi1T2gFwlEh",
        "outputId": "502f224a-c67d-461e-fab0-1ba5e145d118"
      },
      "execution_count": null,
      "outputs": [
        {
          "output_type": "execute_result",
          "data": {
            "text/plain": [
              "('oR5az_eNCnfN7e49H3ONhg', 137)"
            ]
          },
          "metadata": {},
          "execution_count": 58
        }
      ]
    },
    {
      "cell_type": "markdown",
      "source": [
        "El usuario con uid 'oR5az_eNCnfN7e49H3ONhg' es el que mas veces utilizo la palabra \"fuck\" con un total de 137 veces."
      ],
      "metadata": {
        "id": "HqvxO0-798sI"
      }
    },
    {
      "cell_type": "markdown",
      "source": [
        "#### ¿Cuál es el negocio que más veces recibió la palabra en ambas tablas?"
      ],
      "metadata": {
        "id": "9pV3Q6J5-NF7"
      }
    },
    {
      "cell_type": "markdown",
      "source": [
        "Creo un rdd de tipo (clave, valor) donde la clave es el id del negocio y el valor la cantidad de \"fuck\" que contiene la review o tip:"
      ],
      "metadata": {
        "id": "vR-O7mp289Ez"
      }
    },
    {
      "cell_type": "code",
      "source": [
        "business_rev_f = rev_f.map(lambda x: (x.business_id, x.text.count(\"fuck\")))\n",
        "business_tip_f = tip_f.map(lambda x: (x.business_id, x.text.count(\"fuck\")))\n",
        "cant_f_business = business_rev_f.union(business_tip_f).reduceByKey(lambda x,y: x+y).cache()\n",
        "cant_f_business.reduce(lambda x,y: x if x[1] > y[1] else y)"
      ],
      "metadata": {
        "colab": {
          "base_uri": "https://localhost:8080/"
        },
        "id": "ODRpC_18-cfH",
        "outputId": "fc6bfb37-49cc-4f00-bb21-4c1b24f32236"
      },
      "execution_count": null,
      "outputs": [
        {
          "output_type": "execute_result",
          "data": {
            "text/plain": [
              "('ytynqOUb3hjKeJfRj5Tshw', 10)"
            ]
          },
          "metadata": {},
          "execution_count": 59
        }
      ]
    },
    {
      "cell_type": "markdown",
      "source": [
        "El negocio con business id 'ytynqOUb3hjKeJfRj5Tshw' es el que mas veces recibio la palabra fuck con un total de 10 veces."
      ],
      "metadata": {
        "id": "CRbo4Udg_SPO"
      }
    },
    {
      "cell_type": "markdown",
      "source": [
        "#### ¿Cuál es el negocio de más de 3 reviews con mayor ratio de textos que contienen “fuck”?"
      ],
      "metadata": {
        "id": "YMOFVfJ6_o6f"
      }
    },
    {
      "cell_type": "markdown",
      "source": [
        "Cuento la cantidad de reviews totales que tiene cada negocio y me quedo con los que tengan mas de 3:"
      ],
      "metadata": {
        "id": "Y95EC7iC9GtJ"
      }
    },
    {
      "cell_type": "code",
      "source": [
        "cant_reviews_business = rev_rdd.map(lambda x: (x.business_id, 1)).reduceByKey(lambda x,y: x+y).filter(lambda x: x[1] > 3)"
      ],
      "metadata": {
        "id": "jSjA7ONcAJOL"
      },
      "execution_count": null,
      "outputs": []
    },
    {
      "cell_type": "markdown",
      "source": [
        "Calculo los ratios y obtengo el mayor:"
      ],
      "metadata": {
        "id": "OQSJ9Ou89XbK"
      }
    },
    {
      "cell_type": "code",
      "source": [
        "business_ratio = cant_reviews_business.join(cant_f_business).map(lambda x: (x[0], x[1][1] / x[1][0])).cache()\n",
        "business_ratio.reduce(lambda x,y: x if x[1] > y[1] else y)"
      ],
      "metadata": {
        "colab": {
          "base_uri": "https://localhost:8080/"
        },
        "id": "83fWwdilg0PU",
        "outputId": "1ec356e5-f8eb-4b3e-93b4-1779569b6eb7"
      },
      "execution_count": null,
      "outputs": [
        {
          "output_type": "execute_result",
          "data": {
            "text/plain": [
              "('SeLZmaxWKWYPuHM87kNp1w', 1.4)"
            ]
          },
          "metadata": {},
          "execution_count": 61
        }
      ]
    },
    {
      "cell_type": "markdown",
      "source": [
        "El negocio con business id 'SeLZmaxWKWYPuHM87kNp1w' es el que tiene un mayor ratio de palabras fuck por review, que es 1.4."
      ],
      "metadata": {
        "id": "uJpFk8NpH1Lt"
      }
    },
    {
      "cell_type": "markdown",
      "source": [
        "#### Para los negocios con textos que tienen “fuck” correlacione el rating promedio del negocio con su ratio de “fuck” en textos."
      ],
      "metadata": {
        "id": "gnsad0K6_tCJ"
      }
    },
    {
      "cell_type": "code",
      "source": [
        "bus_df = sqlContext.read.csv('/content/drive/MyDrive/Datos/TP2/business.csv', header=True, multiLine=True, inferSchema=True)\n",
        "bus_rdd = bus_df.rdd"
      ],
      "metadata": {
        "id": "EZtoocZ9T_bz"
      },
      "execution_count": null,
      "outputs": []
    },
    {
      "cell_type": "markdown",
      "source": [
        "Obtengo la cantidad de stars de cada negocio y los uno con su ratio de \"fuck\" en textos, calculados en el item anterior:"
      ],
      "metadata": {
        "id": "iUHlIthj9hi2"
      }
    },
    {
      "cell_type": "code",
      "source": [
        "business_stars = bus_rdd.map(lambda x: (x.business_id, x.stars))\n",
        "business_data = business_ratio.join(business_stars)\n",
        "business_data.first()"
      ],
      "metadata": {
        "colab": {
          "base_uri": "https://localhost:8080/"
        },
        "id": "V-_LULvVaXPG",
        "outputId": "a2876275-847e-4d35-ae2b-95c0c2fa7770"
      },
      "execution_count": null,
      "outputs": [
        {
          "output_type": "execute_result",
          "data": {
            "text/plain": [
              "('nFjk0xVI9fNiVN__5g-m8Q', (0.014760147601476014, 4.0))"
            ]
          },
          "metadata": {},
          "execution_count": 63
        }
      ]
    },
    {
      "cell_type": "markdown",
      "source": [
        "Calculo la correlacion:"
      ],
      "metadata": {
        "id": "OPCn7Oty978o"
      }
    },
    {
      "cell_type": "code",
      "source": [
        "import numpy as np\n",
        "\n",
        "def correlation(rdd, pos1, pos2):\n",
        "  \"\"\" Calcula la correlacion entre dos posiciones del value de un rdd de tipo (key, (value1, value2, ...)) \"\"\"\n",
        "  a = rdd.map(lambda x: x[1][pos1] * x[1][pos2]).reduce(lambda x,y: x + y)\n",
        "  b = rdd.map(lambda x: x[1][pos1] * x[1][pos1]).reduce(lambda x,y: x + y) * rdd.map(lambda x: x[1][pos2] * x[1][pos2]).reduce(lambda x,y: x + y)\n",
        "  return a/np.sqrt(b)\n",
        "\n",
        "correlation(business_data, 0, 1)"
      ],
      "metadata": {
        "colab": {
          "base_uri": "https://localhost:8080/"
        },
        "id": "4I9g8BKeqw_j",
        "outputId": "db9ee4c4-ea23-4566-b78d-117cf850b213"
      },
      "execution_count": null,
      "outputs": [
        {
          "output_type": "execute_result",
          "data": {
            "text/plain": [
              "0.4508260982265326"
            ]
          },
          "metadata": {},
          "execution_count": 64
        }
      ]
    },
    {
      "cell_type": "markdown",
      "source": [
        "La correlación entre el rating promedio del negocio con su ratio de “fuck” en textos es 0.45 aproximadamente."
      ],
      "metadata": {
        "id": "h4b6oOXrt5BG"
      }
    }
  ],
  "metadata": {
    "colab": {
      "name": "S40.ipynb",
      "provenance": [],
      "collapsed_sections": []
    },
    "kernelspec": {
      "display_name": "Python 3",
      "name": "python3"
    },
    "language_info": {
      "name": "python"
    }
  },
  "nbformat": 4,
  "nbformat_minor": 0
}
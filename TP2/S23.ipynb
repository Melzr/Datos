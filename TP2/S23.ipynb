{
  "nbformat": 4,
  "nbformat_minor": 0,
  "metadata": {
    "colab": {
      "name": "S23.ipynb",
      "provenance": [],
      "collapsed_sections": []
    },
    "kernelspec": {
      "name": "python3",
      "display_name": "Python 3"
    },
    "language_info": {
      "name": "python"
    }
  },
  "cells": [
    {
      "cell_type": "markdown",
      "source": [
        "Yelp es un sitio donde se pueden dejar reseñas y tips sobre negocios de todo tipo, muy utilizado en Estados Unidos. Los csvs son:\n",
        "\n",
        "* businesses.csv\n",
        "  * business_id\n",
        "  * name\n",
        "  * address\n",
        "  * city\n",
        "  * state\n",
        "  * postal_code\n",
        "  * latitude\n",
        "  * longitude\n",
        "  * stars: float, star rating, rounded to half-stars\n",
        "  * review_count\n",
        "  * is_open\n",
        "  * attributes: un json con atributos variados\n",
        "  * categories: lista de categorías en json a las que pertenece el negocio\n",
        "  * hours: diccionario json con horarios día por día en los que abre\n",
        "* review.csv\n",
        "  * review_id\n",
        "  * user_id\n",
        "  * business_id\n",
        "  * stars: entero entre 1 y 5\n",
        "  * date\n",
        "  * text: texto de la review\n",
        "  * useful: cantidad de gente que la voto útil\n",
        "  * funny: cantidad de gente que la voto divertida\n",
        "  * cool: cantidad de gente que la votó como cool\n",
        "* user.csv\n",
        "  * user_id\n",
        "  * name\n",
        "  * review_count\n",
        "  * yelping_since: fecha de registro\n",
        "  * friends: lista en json de user ids que son amigos\n",
        "  * useful: cantidad de votos “useful” que recibió el usuario\n",
        "  * funny: cantidad de votos “funny” que recibió el usuario\n",
        "  * cool: cantidad de votos “cool” que recibió el usuario\n",
        "  * fans: cantidad de fans que tiene el usuario\n",
        "  * elite: lista json con los años que el usuario fue élite\n",
        "  * average_stars: promedio de rating de todas sus reviews\n",
        "  * compliment_*: la cantidad de cumplidos de tipo * que recibió el usuario\n",
        "* checkins.csv: Las visitas que los usuarios registran a los lugares\n",
        "  * business_id\n",
        "  * date: lista de fechas separadas por coma de los chekins que recibió el negocio\n",
        "* tip.csv: tips que los usuarios dan sobre lugares\n",
        "  * text\n",
        "  * date\n",
        "  * compliment_count: cumplidos que recibió el tip\n",
        "  * business_id\n",
        "  * user_id"
      ],
      "metadata": {
        "id": "SCjLWiAP5y8O"
      }
    },
    {
      "cell_type": "markdown",
      "source": [
        "## S23. De los negocios que tienen acceso para silla de ruedas (si no dice nada asuma que no tiene) y tienen más de 10 reviews, ¿cuál es el mejor? ¿y el peor?"
      ],
      "metadata": {
        "id": "KgqTTui6Jezq"
      }
    },
    {
      "cell_type": "markdown",
      "source": [
        "### Installs e imports"
      ],
      "metadata": {
        "id": "R2Xm8xFjJhYn"
      }
    },
    {
      "cell_type": "code",
      "execution_count": null,
      "metadata": {
        "id": "cf3_M3ROJcWn",
        "colab": {
          "base_uri": "https://localhost:8080/"
        },
        "outputId": "e4eed0ce-a04c-46d7-b8b4-290401c099cb"
      },
      "outputs": [
        {
          "output_type": "stream",
          "name": "stdout",
          "text": [
            "Collecting pyspark\n",
            "  Downloading pyspark-3.2.1.tar.gz (281.4 MB)\n",
            "\u001b[K     |████████████████████████████████| 281.4 MB 36 kB/s \n",
            "\u001b[?25hCollecting py4j==0.10.9.3\n",
            "  Downloading py4j-0.10.9.3-py2.py3-none-any.whl (198 kB)\n",
            "\u001b[K     |████████████████████████████████| 198 kB 63.3 MB/s \n",
            "\u001b[?25hBuilding wheels for collected packages: pyspark\n",
            "  Building wheel for pyspark (setup.py) ... \u001b[?25l\u001b[?25hdone\n",
            "  Created wheel for pyspark: filename=pyspark-3.2.1-py2.py3-none-any.whl size=281853642 sha256=a6419f45ba09c1f86ea11dbd571b2425cbd32af79056f48fd4029a9135fa1e0f\n",
            "  Stored in directory: /root/.cache/pip/wheels/9f/f5/07/7cd8017084dce4e93e84e92efd1e1d5334db05f2e83bcef74f\n",
            "Successfully built pyspark\n",
            "Installing collected packages: py4j, pyspark\n",
            "Successfully installed py4j-0.10.9.3 pyspark-3.2.1\n",
            "The following package was automatically installed and is no longer required:\n",
            "  libnvidia-common-460\n",
            "Use 'apt autoremove' to remove it.\n",
            "The following additional packages will be installed:\n",
            "  openjdk-8-jre-headless\n",
            "Suggested packages:\n",
            "  openjdk-8-demo openjdk-8-source libnss-mdns fonts-dejavu-extra\n",
            "  fonts-ipafont-gothic fonts-ipafont-mincho fonts-wqy-microhei\n",
            "  fonts-wqy-zenhei fonts-indic\n",
            "The following NEW packages will be installed:\n",
            "  openjdk-8-jdk-headless openjdk-8-jre-headless\n",
            "0 upgraded, 2 newly installed, 0 to remove and 42 not upgraded.\n",
            "Need to get 36.5 MB of archives.\n",
            "After this operation, 143 MB of additional disk space will be used.\n",
            "Selecting previously unselected package openjdk-8-jre-headless:amd64.\n",
            "(Reading database ... 155629 files and directories currently installed.)\n",
            "Preparing to unpack .../openjdk-8-jre-headless_8u312-b07-0ubuntu1~18.04_amd64.deb ...\n",
            "Unpacking openjdk-8-jre-headless:amd64 (8u312-b07-0ubuntu1~18.04) ...\n",
            "Selecting previously unselected package openjdk-8-jdk-headless:amd64.\n",
            "Preparing to unpack .../openjdk-8-jdk-headless_8u312-b07-0ubuntu1~18.04_amd64.deb ...\n",
            "Unpacking openjdk-8-jdk-headless:amd64 (8u312-b07-0ubuntu1~18.04) ...\n",
            "Setting up openjdk-8-jre-headless:amd64 (8u312-b07-0ubuntu1~18.04) ...\n",
            "update-alternatives: using /usr/lib/jvm/java-8-openjdk-amd64/jre/bin/orbd to provide /usr/bin/orbd (orbd) in auto mode\n",
            "update-alternatives: using /usr/lib/jvm/java-8-openjdk-amd64/jre/bin/servertool to provide /usr/bin/servertool (servertool) in auto mode\n",
            "update-alternatives: using /usr/lib/jvm/java-8-openjdk-amd64/jre/bin/tnameserv to provide /usr/bin/tnameserv (tnameserv) in auto mode\n",
            "Setting up openjdk-8-jdk-headless:amd64 (8u312-b07-0ubuntu1~18.04) ...\n",
            "update-alternatives: using /usr/lib/jvm/java-8-openjdk-amd64/bin/idlj to provide /usr/bin/idlj (idlj) in auto mode\n",
            "update-alternatives: using /usr/lib/jvm/java-8-openjdk-amd64/bin/wsimport to provide /usr/bin/wsimport (wsimport) in auto mode\n",
            "update-alternatives: using /usr/lib/jvm/java-8-openjdk-amd64/bin/jsadebugd to provide /usr/bin/jsadebugd (jsadebugd) in auto mode\n",
            "update-alternatives: using /usr/lib/jvm/java-8-openjdk-amd64/bin/native2ascii to provide /usr/bin/native2ascii (native2ascii) in auto mode\n",
            "update-alternatives: using /usr/lib/jvm/java-8-openjdk-amd64/bin/javah to provide /usr/bin/javah (javah) in auto mode\n",
            "update-alternatives: using /usr/lib/jvm/java-8-openjdk-amd64/bin/hsdb to provide /usr/bin/hsdb (hsdb) in auto mode\n",
            "update-alternatives: using /usr/lib/jvm/java-8-openjdk-amd64/bin/clhsdb to provide /usr/bin/clhsdb (clhsdb) in auto mode\n",
            "update-alternatives: using /usr/lib/jvm/java-8-openjdk-amd64/bin/xjc to provide /usr/bin/xjc (xjc) in auto mode\n",
            "update-alternatives: using /usr/lib/jvm/java-8-openjdk-amd64/bin/schemagen to provide /usr/bin/schemagen (schemagen) in auto mode\n",
            "update-alternatives: using /usr/lib/jvm/java-8-openjdk-amd64/bin/extcheck to provide /usr/bin/extcheck (extcheck) in auto mode\n",
            "update-alternatives: using /usr/lib/jvm/java-8-openjdk-amd64/bin/jhat to provide /usr/bin/jhat (jhat) in auto mode\n",
            "update-alternatives: using /usr/lib/jvm/java-8-openjdk-amd64/bin/wsgen to provide /usr/bin/wsgen (wsgen) in auto mode\n"
          ]
        }
      ],
      "source": [
        "!pip install pyspark\n",
        "!pip install -U -q PyDrive\n",
        "!apt install openjdk-8-jdk-headless -qq\n",
        "import os\n",
        "os.environ[\"JAVA_HOME\"] = \"/usr/lib/jvm/java-8-openjdk-amd64\""
      ]
    },
    {
      "cell_type": "code",
      "source": [
        "from pyspark.sql import *\n",
        "from pyspark.sql.functions import *\n",
        "from pyspark import SparkContext\n",
        "from pyspark.sql import SQLContext\n",
        "import pandas as pd"
      ],
      "metadata": {
        "id": "zu_s5F8QJofc"
      },
      "execution_count": null,
      "outputs": []
    },
    {
      "cell_type": "markdown",
      "source": [
        "### Resolución"
      ],
      "metadata": {
        "id": "Qoe476XZJk09"
      }
    },
    {
      "cell_type": "code",
      "source": [
        "spark = SparkSession.builder.getOrCreate()\n",
        "sc = spark.sparkContext"
      ],
      "metadata": {
        "id": "fft_jno0J0HJ"
      },
      "execution_count": null,
      "outputs": []
    },
    {
      "cell_type": "code",
      "source": [
        "sqlContext = SQLContext(sc)\n",
        "df = sqlContext.read.parquet('/content/drive/MyDrive/Datos/TP2/business_parquet', inferSchema=True)\n",
        "rdd = df.rdd"
      ],
      "metadata": {
        "id": "SExCzQzJJ1it",
        "colab": {
          "base_uri": "https://localhost:8080/"
        },
        "outputId": "35c599be-ab6d-4a90-936e-b72796919870"
      },
      "execution_count": null,
      "outputs": [
        {
          "output_type": "stream",
          "name": "stderr",
          "text": [
            "/usr/local/lib/python3.7/dist-packages/pyspark/sql/context.py:79: FutureWarning: Deprecated in 3.0.0. Use SparkSession.builder.getOrCreate() instead.\n",
            "  FutureWarning\n"
          ]
        }
      ]
    },
    {
      "cell_type": "code",
      "source": [
        "rdd.take(5)"
      ],
      "metadata": {
        "colab": {
          "base_uri": "https://localhost:8080/"
        },
        "id": "hJJyYLatk1gE",
        "outputId": "f8409787-3337-41a2-9c9f-33d4cbb7b7e4"
      },
      "execution_count": null,
      "outputs": [
        {
          "output_type": "execute_result",
          "data": {
            "text/plain": [
              "[Row(business_id='Pns2l4eNsfO8kk83dixA6A', name='Abby Rappoport, LAC, CMQ', address='1616 Chapala St, Ste 2', city='Santa Barbara', state='CA', postal_code='93101', latitude=34.4266787, longitude=-119.7111968, stars=5.0, review_count=0.0, is_open=0, attributes=\"{'ByAppointmentOnly': 'True'}\", categories='Doctors, Traditional Chinese Medicine, Naturopathic/Holistic, Acupuncture, Health & Medical, Nutritionists', hours=None),\n",
              " Row(business_id='mpf3x-BjTdTEA3yCZrAYPw', name='The UPS Store', address='87 Grasso Plaza Shopping Center', city='Affton', state='MO', postal_code='63123', latitude=38.551126, longitude=-90.335695, stars=3.0, review_count=8.0, is_open=1, attributes=\"{'BusinessAcceptsCreditCards': 'True'}\", categories='Shipping Centers, Local Services, Notaries, Mailbox Centers, Printing Services', hours=\"{'Monday': '0:0-0:0', 'Tuesday': '8:0-18:30', 'Wednesday': '8:0-18:30', 'Thursday': '8:0-18:30', 'Friday': '8:0-18:30', 'Saturday': '8:0-14:0'}\"),\n",
              " Row(business_id='tUFrWirKiKi_TAnsVWINQQ', name='Target', address='5255 E Broadway Blvd', city='Tucson', state='AZ', postal_code='85711', latitude=32.223236, longitude=-110.880452, stars=3.5, review_count=11.0, is_open=0, attributes='{\\'BikeParking\\': \\'True\\', \\'BusinessAcceptsCreditCards\\': \\'True\\', \\'RestaurantsPriceRange2\\': \\'2\\', \\'CoatCheck\\': \\'False\\', \\'RestaurantsTakeOut\\': \\'False\\', \\'RestaurantsDelivery\\': \\'False\\', \\'Caters\\': \\'False\\', \\'WiFi\\': \"u\\'no\\'\", \\'BusinessParking\\': \"{\\'garage\\': False, \\'street\\': False, \\'validated\\': False, \\'lot\\': True, \\'valet\\': False}\", \\'WheelchairAccessible\\': \\'True\\', \\'HappyHour\\': \\'False\\', \\'OutdoorSeating\\': \\'False\\', \\'HasTV\\': \\'False\\', \\'RestaurantsReservations\\': \\'False\\', \\'DogsAllowed\\': \\'False\\', \\'ByAppointmentOnly\\': \\'False\\'}', categories='Department Stores, Shopping, Fashion, Home & Garden, Electronics, Furniture Stores', hours=\"{'Monday': '8:0-22:0', 'Tuesday': '8:0-22:0', 'Wednesday': '8:0-22:0', 'Thursday': '8:0-22:0', 'Friday': '8:0-23:0', 'Saturday': '8:0-23:0', 'Sunday': '8:0-22:0'}\"),\n",
              " Row(business_id='MTSW4McQd7CbVtyjqoe9mw', name='St Honore Pastries', address='935 Race St', city='Philadelphia', state='PA', postal_code='19107', latitude=39.9555052, longitude=-75.1555641, stars=4.0, review_count=37.0, is_open=1, attributes='{\\'RestaurantsDelivery\\': \\'False\\', \\'OutdoorSeating\\': \\'False\\', \\'BusinessAcceptsCreditCards\\': \\'False\\', \\'BusinessParking\\': \"{\\'garage\\': False, \\'street\\': True, \\'validated\\': False, \\'lot\\': False, \\'valet\\': False}\", \\'BikeParking\\': \\'True\\', \\'RestaurantsPriceRange2\\': \\'1\\', \\'RestaurantsTakeOut\\': \\'True\\', \\'ByAppointmentOnly\\': \\'False\\', \\'WiFi\\': \"u\\'free\\'\", \\'Alcohol\\': \"u\\'none\\'\", \\'Caters\\': \\'True\\'}', categories='Restaurants, Food, Bubble Tea, Coffee & Tea, Bakeries', hours=\"{'Monday': '7:0-20:0', 'Tuesday': '7:0-20:0', 'Wednesday': '7:0-20:0', 'Thursday': '7:0-20:0', 'Friday': '7:0-21:0', 'Saturday': '7:0-21:0', 'Sunday': '7:0-21:0'}\"),\n",
              " Row(business_id='mWMc6_wTdE0EUBKIGXDVfA', name='Perkiomen Valley Brewery', address='101 Walnut St', city='Green Lane', state='PA', postal_code='18054', latitude=40.3381827, longitude=-75.4716585, stars=4.5, review_count=13.0, is_open=1, attributes='{\\'BusinessAcceptsCreditCards\\': \\'True\\', \\'WheelchairAccessible\\': \\'True\\', \\'RestaurantsTakeOut\\': \\'True\\', \\'BusinessParking\\': \"{\\'garage\\': None, \\'street\\': None, \\'validated\\': None, \\'lot\\': True, \\'valet\\': False}\", \\'BikeParking\\': \\'True\\', \\'GoodForKids\\': \\'True\\', \\'Caters\\': \\'False\\'}', categories='Brewpubs, Breweries, Food', hours=\"{'Wednesday': '14:0-22:0', 'Thursday': '16:0-22:0', 'Friday': '12:0-22:0', 'Saturday': '12:0-22:0', 'Sunday': '12:0-18:0'}\")]"
            ]
          },
          "metadata": {},
          "execution_count": 5
        }
      ]
    },
    {
      "cell_type": "markdown",
      "source": [
        "Me quedo con los negocios con acceso a silla de ruedas (contienen 'WheelchairAccessible': 'True' en attributes) y tienen más de 10 reviews:"
      ],
      "metadata": {
        "id": "kG43y2GpjK1j"
      }
    },
    {
      "cell_type": "code",
      "source": [
        "filtered = rdd.filter(lambda x: x.attributes and \"'WheelchairAccessible\\': \\'True\\'\" in x.attributes and x.review_count > 10).cache()\n",
        "filtered.first()"
      ],
      "metadata": {
        "colab": {
          "base_uri": "https://localhost:8080/"
        },
        "id": "sZsmDnvblDnp",
        "outputId": "8d9bd5d5-88ad-4039-efab-312372702511"
      },
      "execution_count": null,
      "outputs": [
        {
          "output_type": "execute_result",
          "data": {
            "text/plain": [
              "Row(business_id='tUFrWirKiKi_TAnsVWINQQ', name='Target', address='5255 E Broadway Blvd', city='Tucson', state='AZ', postal_code='85711', latitude=32.223236, longitude=-110.880452, stars=3.5, review_count=11.0, is_open=0, attributes='{\\'BikeParking\\': \\'True\\', \\'BusinessAcceptsCreditCards\\': \\'True\\', \\'RestaurantsPriceRange2\\': \\'2\\', \\'CoatCheck\\': \\'False\\', \\'RestaurantsTakeOut\\': \\'False\\', \\'RestaurantsDelivery\\': \\'False\\', \\'Caters\\': \\'False\\', \\'WiFi\\': \"u\\'no\\'\", \\'BusinessParking\\': \"{\\'garage\\': False, \\'street\\': False, \\'validated\\': False, \\'lot\\': True, \\'valet\\': False}\", \\'WheelchairAccessible\\': \\'True\\', \\'HappyHour\\': \\'False\\', \\'OutdoorSeating\\': \\'False\\', \\'HasTV\\': \\'False\\', \\'RestaurantsReservations\\': \\'False\\', \\'DogsAllowed\\': \\'False\\', \\'ByAppointmentOnly\\': \\'False\\'}', categories='Department Stores, Shopping, Fashion, Home & Garden, Electronics, Furniture Stores', hours=\"{'Monday': '8:0-22:0', 'Tuesday': '8:0-22:0', 'Wednesday': '8:0-22:0', 'Thursday': '8:0-22:0', 'Friday': '8:0-23:0', 'Saturday': '8:0-23:0', 'Sunday': '8:0-22:0'}\")"
            ]
          },
          "metadata": {},
          "execution_count": 6
        }
      ]
    },
    {
      "cell_type": "markdown",
      "source": [
        "Obtengo el mejor basandome en su cantidad de estrellas:"
      ],
      "metadata": {
        "id": "UG5MDPOdTaCx"
      }
    },
    {
      "cell_type": "code",
      "source": [
        "filtered.reduce(lambda x, y: x if x.stars > y.stars else y)"
      ],
      "metadata": {
        "colab": {
          "base_uri": "https://localhost:8080/"
        },
        "id": "DuP5sKLYq5TE",
        "outputId": "ce57ffd2-6873-4856-f4ba-94b5777bcd30"
      },
      "execution_count": null,
      "outputs": [
        {
          "output_type": "execute_result",
          "data": {
            "text/plain": [
              "Row(business_id='izSgTrqebu8bN8ONOCs6cQ', name='Oat Bakery', address='5 W Haley St', city='Santa Barbara', state='CA', postal_code='93101', latitude=34.4165478074, longitude=-119.6956258296, stars=5.0, review_count=124.0, is_open=1, attributes='{\\'Alcohol\\': \"u\\'none\\'\", \\'HasTV\\': \\'False\\', \\'BikeParking\\': \\'True\\', \\'Caters\\': \\'True\\', \\'BusinessAcceptsBitcoin\\': \\'True\\', \\'HappyHour\\': \\'True\\', \\'BusinessParking\\': \"{\\'garage\\': False, \\'street\\': True, \\'validated\\': False, \\'lot\\': True, \\'valet\\': False}\", \\'DogsAllowed\\': \\'True\\', \\'OutdoorSeating\\': \\'None\\', \\'WheelchairAccessible\\': \\'True\\', \\'BusinessAcceptsCreditCards\\': \\'True\\', \\'RestaurantsTableService\\': \\'True\\', \\'BYOB\\': \\'False\\', \\'WiFi\\': \"u\\'no\\'\", \\'RestaurantsDelivery\\': \\'None\\', \\'RestaurantsPriceRange2\\': \\'1\\', \\'RestaurantsReservations\\': \\'True\\', \\'RestaurantsTakeOut\\': \\'None\\'}', categories='Bakeries, Vegan, Specialty Food, Food Delivery Services, Food, Coffee & Tea, Gluten-Free, Farmers Market, Restaurants, Organic Stores', hours=\"{'Monday': '0:0-0:0', 'Tuesday': '9:0-18:0', 'Wednesday': '9:0-14:30', 'Thursday': '9:0-14:30', 'Friday': '9:0-14:30', 'Saturday': '9:0-14:30'}\")"
            ]
          },
          "metadata": {},
          "execution_count": 7
        }
      ]
    },
    {
      "cell_type": "markdown",
      "source": [
        "Obtengo el peor:"
      ],
      "metadata": {
        "id": "pwKTxX6wTdNp"
      }
    },
    {
      "cell_type": "code",
      "source": [
        "filtered.reduce(lambda x, y: x if x.stars < y.stars else y)"
      ],
      "metadata": {
        "colab": {
          "base_uri": "https://localhost:8080/"
        },
        "id": "IQDVOdTHsTGX",
        "outputId": "a2f135ff-58f7-40f7-ce61-e3d876c012bb"
      },
      "execution_count": null,
      "outputs": [
        {
          "output_type": "execute_result",
          "data": {
            "text/plain": [
              "Row(business_id='MtFOOKu3JXClmUEDOCQKFA', name='Cherry Hill Programs', address='4 E Stow Rd, Ste 1', city='Marlton', state='NJ', postal_code='08053', latitude=39.912606, longitude=-74.93051, stars=1.0, review_count=59.0, is_open=1, attributes=\"{'RestaurantsPriceRange2': '3', 'BusinessAcceptsBitcoin': 'False', 'BusinessAcceptsCreditCards': 'True', 'RestaurantsReservations': 'None', 'DogsAllowed': 'True', 'WheelchairAccessible': 'True'}\", categories='Flowers & Gifts, Shopping Centers, Photographers, Event Planning & Services, Event Photography, Photography Stores & Services, Shopping, Cards & Stationery, Arts & Crafts', hours=None)"
            ]
          },
          "metadata": {},
          "execution_count": 8
        }
      ]
    },
    {
      "cell_type": "markdown",
      "source": [
        "De los negocios con acceso para sillas de ruedas, Oat Bakery es el mejor con 5 estrellas y Cherry Hill Programs el peor con 1 estrella. Ambos con la máxima y mínima cantidad de estrellas respectivamente, por lo que puede haber más negocios con esa cantidad de estrellas que cuenten como el mejor y el peor."
      ],
      "metadata": {
        "id": "z7REhvLXsuEJ"
      }
    }
  ]
}
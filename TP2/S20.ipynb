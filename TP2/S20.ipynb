{
  "nbformat": 4,
  "nbformat_minor": 0,
  "metadata": {
    "colab": {
      "name": "S20.ipynb",
      "provenance": [],
      "collapsed_sections": []
    },
    "kernelspec": {
      "name": "python3",
      "display_name": "Python 3"
    },
    "language_info": {
      "name": "python"
    }
  },
  "cells": [
    {
      "cell_type": "markdown",
      "source": [
        "Yelp es un sitio donde se pueden dejar reseñas y tips sobre negocios de todo tipo, muy utilizado en Estados Unidos. Los csvs son:\n",
        "\n",
        "* businesses.csv\n",
        "  * business_id\n",
        "  * name\n",
        "  * address\n",
        "  * city\n",
        "  * state\n",
        "  * postal_code\n",
        "  * latitude\n",
        "  * longitude\n",
        "  * stars: float, star rating, rounded to half-stars\n",
        "  * review_count\n",
        "  * is_open\n",
        "  * attributes: un json con atributos variados\n",
        "  * categories: lista de categorías en json a las que pertenece el negocio\n",
        "  * hours: diccionario json con horarios día por día en los que abre\n",
        "* review.csv\n",
        "  * review_id\n",
        "  * user_id\n",
        "  * business_id\n",
        "  * stars: entero entre 1 y 5\n",
        "  * date\n",
        "  * text: texto de la review\n",
        "  * useful: cantidad de gente que la voto útil\n",
        "  * funny: cantidad de gente que la voto divertida\n",
        "  * cool: cantidad de gente que la votó como cool\n",
        "* user.csv\n",
        "  * user_id\n",
        "  * name\n",
        "  * review_count\n",
        "  * yelping_since: fecha de registro\n",
        "  * friends: lista en json de user ids que son amigos\n",
        "  * useful: cantidad de votos “useful” que recibió el usuario\n",
        "  * funny: cantidad de votos “funny” que recibió el usuario\n",
        "  * cool: cantidad de votos “cool” que recibió el usuario\n",
        "  * fans: cantidad de fans que tiene el usuario\n",
        "  * elite: lista json con los años que el usuario fue élite\n",
        "  * average_stars: promedio de rating de todas sus reviews\n",
        "  * compliment_*: la cantidad de cumplidos de tipo * que recibió el usuario\n",
        "* checkins.csv: Las visitas que los usuarios registran a los lugares\n",
        "  * business_id\n",
        "  * date: lista de fechas separadas por coma de los chekins que recibió el negocio\n",
        "* tip.csv: tips que los usuarios dan sobre lugares\n",
        "  * text\n",
        "  * date\n",
        "  * compliment_count: cumplidos que recibió el tip\n",
        "  * business_id\n",
        "  * user_id"
      ],
      "metadata": {
        "id": "C5Qqa_bD5j_h"
      }
    },
    {
      "cell_type": "markdown",
      "source": [
        "## S20. Buscar la distancia mínima que existe entre dos locales de McDonald ‘s en el estado de LA (que no comparten dirección). ¿Cuál es la distancia?¿A qué ciudad/es pertenecen? ¿Cuáles son las direcciones de los locales?"
      ],
      "metadata": {
        "id": "pmS9Hqz78i_I"
      }
    },
    {
      "cell_type": "markdown",
      "source": [
        "### Installs e imports"
      ],
      "metadata": {
        "id": "4qaPAI_A8mnS"
      }
    },
    {
      "cell_type": "code",
      "execution_count": null,
      "metadata": {
        "colab": {
          "base_uri": "https://localhost:8080/"
        },
        "id": "YIQrv91b8ghr",
        "outputId": "2be886b2-31c9-45ba-f430-b3b5ce0ec2ca"
      },
      "outputs": [
        {
          "output_type": "stream",
          "name": "stdout",
          "text": [
            "Collecting pyspark\n",
            "  Downloading pyspark-3.2.1.tar.gz (281.4 MB)\n",
            "\u001b[K     |████████████████████████████████| 281.4 MB 37 kB/s \n",
            "\u001b[?25hCollecting py4j==0.10.9.3\n",
            "  Downloading py4j-0.10.9.3-py2.py3-none-any.whl (198 kB)\n",
            "\u001b[K     |████████████████████████████████| 198 kB 52.8 MB/s \n",
            "\u001b[?25hBuilding wheels for collected packages: pyspark\n",
            "  Building wheel for pyspark (setup.py) ... \u001b[?25l\u001b[?25hdone\n",
            "  Created wheel for pyspark: filename=pyspark-3.2.1-py2.py3-none-any.whl size=281853642 sha256=982f30c407f8b4bbed0f15feed04385f25414446b3b5366103b8959e565dccc3\n",
            "  Stored in directory: /root/.cache/pip/wheels/9f/f5/07/7cd8017084dce4e93e84e92efd1e1d5334db05f2e83bcef74f\n",
            "Successfully built pyspark\n",
            "Installing collected packages: py4j, pyspark\n",
            "Successfully installed py4j-0.10.9.3 pyspark-3.2.1\n",
            "The following package was automatically installed and is no longer required:\n",
            "  libnvidia-common-460\n",
            "Use 'apt autoremove' to remove it.\n",
            "The following additional packages will be installed:\n",
            "  openjdk-8-jre-headless\n",
            "Suggested packages:\n",
            "  openjdk-8-demo openjdk-8-source libnss-mdns fonts-dejavu-extra\n",
            "  fonts-ipafont-gothic fonts-ipafont-mincho fonts-wqy-microhei\n",
            "  fonts-wqy-zenhei fonts-indic\n",
            "The following NEW packages will be installed:\n",
            "  openjdk-8-jdk-headless openjdk-8-jre-headless\n",
            "0 upgraded, 2 newly installed, 0 to remove and 42 not upgraded.\n",
            "Need to get 36.5 MB of archives.\n",
            "After this operation, 143 MB of additional disk space will be used.\n",
            "Selecting previously unselected package openjdk-8-jre-headless:amd64.\n",
            "(Reading database ... 155629 files and directories currently installed.)\n",
            "Preparing to unpack .../openjdk-8-jre-headless_8u312-b07-0ubuntu1~18.04_amd64.deb ...\n",
            "Unpacking openjdk-8-jre-headless:amd64 (8u312-b07-0ubuntu1~18.04) ...\n",
            "Selecting previously unselected package openjdk-8-jdk-headless:amd64.\n",
            "Preparing to unpack .../openjdk-8-jdk-headless_8u312-b07-0ubuntu1~18.04_amd64.deb ...\n",
            "Unpacking openjdk-8-jdk-headless:amd64 (8u312-b07-0ubuntu1~18.04) ...\n",
            "Setting up openjdk-8-jre-headless:amd64 (8u312-b07-0ubuntu1~18.04) ...\n",
            "update-alternatives: using /usr/lib/jvm/java-8-openjdk-amd64/jre/bin/orbd to provide /usr/bin/orbd (orbd) in auto mode\n",
            "update-alternatives: using /usr/lib/jvm/java-8-openjdk-amd64/jre/bin/servertool to provide /usr/bin/servertool (servertool) in auto mode\n",
            "update-alternatives: using /usr/lib/jvm/java-8-openjdk-amd64/jre/bin/tnameserv to provide /usr/bin/tnameserv (tnameserv) in auto mode\n",
            "Setting up openjdk-8-jdk-headless:amd64 (8u312-b07-0ubuntu1~18.04) ...\n",
            "update-alternatives: using /usr/lib/jvm/java-8-openjdk-amd64/bin/idlj to provide /usr/bin/idlj (idlj) in auto mode\n",
            "update-alternatives: using /usr/lib/jvm/java-8-openjdk-amd64/bin/wsimport to provide /usr/bin/wsimport (wsimport) in auto mode\n",
            "update-alternatives: using /usr/lib/jvm/java-8-openjdk-amd64/bin/jsadebugd to provide /usr/bin/jsadebugd (jsadebugd) in auto mode\n",
            "update-alternatives: using /usr/lib/jvm/java-8-openjdk-amd64/bin/native2ascii to provide /usr/bin/native2ascii (native2ascii) in auto mode\n",
            "update-alternatives: using /usr/lib/jvm/java-8-openjdk-amd64/bin/javah to provide /usr/bin/javah (javah) in auto mode\n",
            "update-alternatives: using /usr/lib/jvm/java-8-openjdk-amd64/bin/hsdb to provide /usr/bin/hsdb (hsdb) in auto mode\n",
            "update-alternatives: using /usr/lib/jvm/java-8-openjdk-amd64/bin/clhsdb to provide /usr/bin/clhsdb (clhsdb) in auto mode\n",
            "update-alternatives: using /usr/lib/jvm/java-8-openjdk-amd64/bin/xjc to provide /usr/bin/xjc (xjc) in auto mode\n",
            "update-alternatives: using /usr/lib/jvm/java-8-openjdk-amd64/bin/schemagen to provide /usr/bin/schemagen (schemagen) in auto mode\n",
            "update-alternatives: using /usr/lib/jvm/java-8-openjdk-amd64/bin/extcheck to provide /usr/bin/extcheck (extcheck) in auto mode\n",
            "update-alternatives: using /usr/lib/jvm/java-8-openjdk-amd64/bin/jhat to provide /usr/bin/jhat (jhat) in auto mode\n",
            "update-alternatives: using /usr/lib/jvm/java-8-openjdk-amd64/bin/wsgen to provide /usr/bin/wsgen (wsgen) in auto mode\n"
          ]
        }
      ],
      "source": [
        "!pip install pyspark\n",
        "!pip install -U -q PyDrive\n",
        "!apt install openjdk-8-jdk-headless -qq\n",
        "import os\n",
        "os.environ[\"JAVA_HOME\"] = \"/usr/lib/jvm/java-8-openjdk-amd64\""
      ]
    },
    {
      "cell_type": "code",
      "source": [
        "from pyspark.sql import *\n",
        "from pyspark.sql.functions import *\n",
        "from pyspark import SparkContext\n",
        "from pyspark.sql import SQLContext\n",
        "import pandas as pd"
      ],
      "metadata": {
        "id": "wPZgdSrl8qj_"
      },
      "execution_count": null,
      "outputs": []
    },
    {
      "cell_type": "code",
      "source": [
        "import numpy as np"
      ],
      "metadata": {
        "id": "Fksow0KLHblS"
      },
      "execution_count": null,
      "outputs": []
    },
    {
      "cell_type": "markdown",
      "source": [
        "### Resolución"
      ],
      "metadata": {
        "id": "jXyXqugD9QSX"
      }
    },
    {
      "cell_type": "code",
      "source": [
        "spark = SparkSession.builder.getOrCreate()\n",
        "sc = spark.sparkContext"
      ],
      "metadata": {
        "id": "XK5nzBcw9TGz"
      },
      "execution_count": null,
      "outputs": []
    },
    {
      "cell_type": "code",
      "source": [
        "sqlContext = SQLContext(sc)\n",
        "df = sqlContext.read.parquet('/content/drive/MyDrive/Datos/TP2/business_parquet', inferSchema=True)\n",
        "rdd = df.rdd"
      ],
      "metadata": {
        "colab": {
          "base_uri": "https://localhost:8080/"
        },
        "id": "PpGVBnAS9bWr",
        "outputId": "43ad4c79-d592-4992-dfd7-5985c18c1e00"
      },
      "execution_count": null,
      "outputs": [
        {
          "output_type": "stream",
          "name": "stderr",
          "text": [
            "/usr/local/lib/python3.7/dist-packages/pyspark/sql/context.py:79: FutureWarning: Deprecated in 3.0.0. Use SparkSession.builder.getOrCreate() instead.\n",
            "  FutureWarning\n"
          ]
        }
      ]
    },
    {
      "cell_type": "markdown",
      "source": [
        "Me quedo con los locales de McDonald's en el estado de LA, con su latitud y londitud, sus ciudades y sus direcciones:"
      ],
      "metadata": {
        "id": "K2pvPXVOSLaX"
      }
    },
    {
      "cell_type": "code",
      "source": [
        "filtered = rdd.filter(lambda x: x.name == \"McDonald's\" and x.state == 'LA').map(lambda x: (1, ((x.latitude, x.longitude), x.city, x.address)) ).cache()\n",
        "filtered.take(5)"
      ],
      "metadata": {
        "colab": {
          "base_uri": "https://localhost:8080/"
        },
        "id": "vJ249DDnCyZz",
        "outputId": "4d7770eb-ec2c-4d37-f7ba-83c1aa476d79"
      },
      "execution_count": null,
      "outputs": [
        {
          "output_type": "execute_result",
          "data": {
            "text/plain": [
              "[(1, ((30.0042438706, -90.0364068849), 'New Orleans', '4240 Louisa St')),\n",
              " (1, ((29.9091675264, -90.2043836564), 'Avondale', '2951 Hwy 90')),\n",
              " (1,\n",
              "  ((30.0068142619, -90.2007519454),\n",
              "   'Metairie',\n",
              "   '5315 Veterans Memorial Blvd')),\n",
              " (1, ((29.963288674, -90.1118321), 'New Orleans', '3443 S Carrollton')),\n",
              " (1, ((30.0012184272, -90.1260017558), 'Metairie', '301 Veterans Hwy'))]"
            ]
          },
          "metadata": {},
          "execution_count": 6
        }
      ]
    },
    {
      "cell_type": "markdown",
      "source": [
        "Calculo la distancia entre todos los pares de locales cuyas direcciones no coinciden, quedandome con la distancia, las ciudades y las direcciones:"
      ],
      "metadata": {
        "id": "5osYfHCLSl9S"
      }
    },
    {
      "cell_type": "code",
      "source": [
        "def distance(x, y):\n",
        "  return np.sqrt((x[0] - y[0])**2 + (x[1] - y[1])**2)\n",
        "\n",
        "distances = filtered.join(filtered).filter(lambda x: x[1][0][2] != x[1][1][2])\\\n",
        "  .map(lambda x: (distance(x[1][0][0], x[1][1][0]), (x[1][0][1], x[1][1][1]), (x[1][0][2], x[1][1][2])))"
      ],
      "metadata": {
        "id": "rhitUawbEgf_"
      },
      "execution_count": null,
      "outputs": []
    },
    {
      "cell_type": "markdown",
      "source": [
        "Encuentro los locales con menor distancia entre si:"
      ],
      "metadata": {
        "id": "ER-KqE2_StJq"
      }
    },
    {
      "cell_type": "code",
      "source": [
        "distances.reduce(lambda x, y: x if x[0] < y[0] else y)"
      ],
      "metadata": {
        "colab": {
          "base_uri": "https://localhost:8080/"
        },
        "id": "5LEPg1dpNFC3",
        "outputId": "02eb6425-524a-4cbf-999d-ef1b11a67016"
      },
      "execution_count": null,
      "outputs": [
        {
          "output_type": "execute_result",
          "data": {
            "text/plain": [
              "(0.011741207401921507,\n",
              " ('Gretna', 'Gretna'),\n",
              " ('1212 Stumpf Blvd', '501 Westbank Expy'))"
            ]
          },
          "metadata": {},
          "execution_count": 8
        }
      ]
    },
    {
      "cell_type": "markdown",
      "source": [
        "Los locales de McDonald's del estado de LA más cercanos están a distancia 0.012 aproximadamente, pertenecen a la ciudad de Gretna y sus direcciones son '1212 Stumpf Blvd' y '501 Westbank Expy'."
      ],
      "metadata": {
        "id": "pm1_CijcQ9to"
      }
    }
  ]
}